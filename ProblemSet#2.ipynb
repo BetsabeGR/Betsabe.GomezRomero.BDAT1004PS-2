{
 "cells": [
  {
   "cell_type": "code",
   "execution_count": 1,
   "id": "1692e7ef",
   "metadata": {},
   "outputs": [],
   "source": [
    "#Question 1\n",
    "\n",
    "a = 0\n",
    "def b():\n",
    "    global a\n",
    "    a = c(a)\n",
    "    \n",
    "def c(a):\n",
    "    return a + 2"
   ]
  },
  {
   "cell_type": "code",
   "execution_count": 2,
   "id": "845726f2",
   "metadata": {},
   "outputs": [
    {
     "data": {
      "text/plain": [
       "0"
      ]
     },
     "execution_count": 2,
     "metadata": {},
     "output_type": "execute_result"
    }
   ],
   "source": [
    "a"
   ]
  },
  {
   "cell_type": "code",
   "execution_count": 3,
   "id": "c63990c4",
   "metadata": {},
   "outputs": [
    {
     "data": {
      "text/plain": [
       "2"
      ]
     },
     "execution_count": 3,
     "metadata": {},
     "output_type": "execute_result"
    }
   ],
   "source": [
    "b()\n",
    "a"
   ]
  },
  {
   "cell_type": "code",
   "execution_count": 4,
   "id": "9566b6f6",
   "metadata": {},
   "outputs": [
    {
     "data": {
      "text/plain": [
       "6"
      ]
     },
     "execution_count": 4,
     "metadata": {},
     "output_type": "execute_result"
    }
   ],
   "source": [
    "b()\n",
    "b()\n",
    "a"
   ]
  },
  {
   "cell_type": "code",
   "execution_count": 5,
   "id": "5ee9ac8d",
   "metadata": {},
   "outputs": [
    {
     "data": {
      "text/plain": [
       "12"
      ]
     },
     "execution_count": 5,
     "metadata": {},
     "output_type": "execute_result"
    }
   ],
   "source": [
    "b()\n",
    "b()\n",
    "b()\n",
    "a"
   ]
  },
  {
   "cell_type": "markdown",
   "id": "b55654ec",
   "metadata": {},
   "source": [
    "What value is displayed when the last expression (a) is evaluated?\n",
    "The last value aster the last expression is executed is 12 and it is explained below.\n",
    "a = 0\n",
    "\n",
    "b()=c(a)=0+2=2\n",
    "a=2\n",
    "\n",
    "b() 2+2 =4\n",
    "b() 4+2=6\n",
    "a = 6\n",
    "\n",
    "b() 6+2 =8\n",
    "b() 8+2=10\n",
    "b() 10+2=12\n",
    "a=12\n",
    "\n",
    "For each function b() that is executed it will take the previous value of a"
   ]
  },
  {
   "cell_type": "markdown",
   "id": "49766ae2",
   "metadata": {},
   "source": [
    "Question 2\n",
    "Function fileLength(), given to you, takes the name of a file as input and returns\n",
    "the length of the file:\n",
    ">>> fileLength('midterm.py')\n",
    "284\n",
    ">>> fileLength('idterm.py')\n",
    "Traceback (most recent call last):\n",
    "File \"<pyshell#34>\", line 1, in <module>\n",
    "fileLength('idterm.py')\n",
    "File \"/Users/me/midterm.py\", line 3, in fileLength\n",
    "infile = open(filename)\n",
    "FileNotFoundError: [Errno 2] No such file or directory:\n",
    "'idterm.py'\n",
    "As shown above, if the file cannot be found by the interpreter or if it cannot be read\n",
    "as a text file, an exception will be raised. Modify function fileLength() so that a\n",
    "friendly message is printed instead:\n",
    ">>> fileLength('midterm.py')\n",
    "358\n",
    ">>> fileLength('idterm.py')\n",
    "File idterm.py not found."
   ]
  },
  {
   "cell_type": "code",
   "execution_count": 3,
   "id": "1253db11",
   "metadata": {},
   "outputs": [],
   "source": [
    "midterm = \"midterm.txt\"\n",
    "try:\n",
    "\n",
    "    def fileLenght(midterm):\n",
    "        file = open(midterm)\n",
    "        contents = file.read()\n",
    "        print(len(contents))\n",
    "\n",
    "except FileNotFoundError:\n",
    "    print('File idterm not found')\n",
    "    exit()\n",
    "    \n"
   ]
  },
  {
   "cell_type": "code",
   "execution_count": 4,
   "id": "c558a19b",
   "metadata": {},
   "outputs": [
    {
     "name": "stdout",
     "output_type": "stream",
     "text": [
      "123\n"
     ]
    }
   ],
   "source": [
    "fileLenght(midterm)"
   ]
  },
  {
   "cell_type": "code",
   "execution_count": 1,
   "id": "c9530c3b",
   "metadata": {},
   "outputs": [
    {
     "name": "stdout",
     "output_type": "stream",
     "text": [
      "File 'idterm' not found\n"
     ]
    }
   ],
   "source": [
    "try:\n",
    "    file = open('idterm.txt')\n",
    "    print(file)\n",
    "    file.close()\n",
    "except FileNotFoundError:\n",
    "    print('File \\'idterm\\' not found')\n",
    "    exit()"
   ]
  },
  {
   "cell_type": "markdown",
   "id": "5c818836",
   "metadata": {},
   "source": [
    "Question 3"
   ]
  },
  {
   "cell_type": "code",
   "execution_count": 4,
   "id": "079fc687",
   "metadata": {
    "slideshow": {
     "slide_type": "-"
    }
   },
   "outputs": [],
   "source": [
    "class Marsupial(object):\n",
    "    def __init__(self):\n",
    "        self.pouch_contents = []\n",
    "    \n",
    "    def put_in_pouch(self, thing):\n",
    "        self.pouch_contents.append(thing)\n",
    "    \n",
    "    def __str__(self):\n",
    "        return format(self.pouch_contents)\n",
    "    \n",
    "    def __repr__(self):\n",
    "        return format(self.pouch_contents)\n",
    "    \n",
    "   "
   ]
  },
  {
   "cell_type": "code",
   "execution_count": 5,
   "id": "310ecdcc",
   "metadata": {
    "slideshow": {
     "slide_type": "-"
    }
   },
   "outputs": [
    {
     "name": "stdout",
     "output_type": "stream",
     "text": [
      "['Doll', 'Firetruck', 'Kitten']\n"
     ]
    }
   ],
   "source": [
    "m = Marsupial()\n",
    "\n",
    "m.put_in_pouch(\"Doll\")\n",
    "m.put_in_pouch(\"Firetruck\")\n",
    "m.put_in_pouch(\"Kitten\")\n",
    "\n",
    "print(m)"
   ]
  },
  {
   "cell_type": "code",
   "execution_count": null,
   "id": "b3d6dc74",
   "metadata": {},
   "outputs": [],
   "source": [
    "class Kangaroo(Marsupial):\n",
    "    def jump(x, y):\n",
    "        for jump:\n",
    "            \n",
    "    "
   ]
  },
  {
   "cell_type": "code",
   "execution_count": 3,
   "id": "bc197ddc",
   "metadata": {},
   "outputs": [
    {
     "name": "stdout",
     "output_type": "stream",
     "text": [
      "5.0\n",
      "16.0\n",
      "8.0\n",
      "4.0\n",
      "2.0\n",
      "1.0\n",
      "1.0\n"
     ]
    }
   ],
   "source": [
    "#Question 4\n",
    "\n",
    "def Collatz(x):\n",
    "    if x==1:\n",
    "        return 1.0\n",
    "    else:\n",
    "        if x%2==0:\n",
    "            x = x/2\n",
    "            print (x)\n",
    "        else:\n",
    "            x = 3*x + 1\n",
    "            print(x)\n",
    "    \n",
    "    return(Collatz(x))\n",
    "              \n",
    "\n",
    "print(Collatz(10))"
   ]
  },
  {
   "cell_type": "code",
   "execution_count": 1,
   "id": "aa3804a9",
   "metadata": {},
   "outputs": [
    {
     "data": {
      "text/plain": [
       "'0'"
      ]
     },
     "execution_count": 1,
     "metadata": {},
     "output_type": "execute_result"
    }
   ],
   "source": [
    "def Binary(x):\n",
    "   \n",
    "    if x == 0:\n",
    "        return \"0\"\n",
    "    else:\n",
    "        return Binary(x//2) + str(x%2)\n",
    "\n",
    "Binary(0)"
   ]
  },
  {
   "cell_type": "code",
   "execution_count": 2,
   "id": "a5b97eb2",
   "metadata": {},
   "outputs": [
    {
     "data": {
      "text/plain": [
       "'01'"
      ]
     },
     "execution_count": 2,
     "metadata": {},
     "output_type": "execute_result"
    }
   ],
   "source": [
    "Binary(1)"
   ]
  },
  {
   "cell_type": "code",
   "execution_count": 3,
   "id": "ddab4c26",
   "metadata": {},
   "outputs": [
    {
     "data": {
      "text/plain": [
       "'011'"
      ]
     },
     "execution_count": 3,
     "metadata": {},
     "output_type": "execute_result"
    }
   ],
   "source": [
    "Binary(3)"
   ]
  },
  {
   "cell_type": "code",
   "execution_count": 4,
   "id": "7eb4812c",
   "metadata": {},
   "outputs": [
    {
     "data": {
      "text/plain": [
       "'01001'"
      ]
     },
     "execution_count": 4,
     "metadata": {},
     "output_type": "execute_result"
    }
   ],
   "source": [
    "Binary(9)"
   ]
  },
  {
   "cell_type": "code",
   "execution_count": 1,
   "id": "eb9744c1",
   "metadata": {},
   "outputs": [
    {
     "name": "stdout",
     "output_type": "stream",
     "text": [
      "Requirement already satisfied: ipython-sql in c:\\users\\bets_\\anaconda3\\lib\\site-packages (0.5.0)\n",
      "Requirement already satisfied: sqlparse in c:\\users\\bets_\\anaconda3\\lib\\site-packages (from ipython-sql) (0.4.4)\n",
      "Requirement already satisfied: prettytable in c:\\users\\bets_\\anaconda3\\lib\\site-packages (from ipython-sql) (3.8.0)\n",
      "Requirement already satisfied: sqlalchemy>=2.0 in c:\\users\\bets_\\anaconda3\\lib\\site-packages (from ipython-sql) (2.0.17)\n",
      "Requirement already satisfied: ipython-genutils in c:\\users\\bets_\\anaconda3\\lib\\site-packages (from ipython-sql) (0.2.0)\n",
      "Requirement already satisfied: six in c:\\users\\bets_\\anaconda3\\lib\\site-packages (from ipython-sql) (1.16.0)\n",
      "Requirement already satisfied: ipython in c:\\users\\bets_\\anaconda3\\lib\\site-packages (from ipython-sql) (8.10.0)\n",
      "Requirement already satisfied: typing-extensions>=4.2.0 in c:\\users\\bets_\\anaconda3\\lib\\site-packages (from sqlalchemy>=2.0->ipython-sql) (4.4.0)\n",
      "Requirement already satisfied: greenlet!=0.4.17 in c:\\users\\bets_\\anaconda3\\lib\\site-packages (from sqlalchemy>=2.0->ipython-sql) (2.0.1)\n",
      "Requirement already satisfied: pickleshare in c:\\users\\bets_\\anaconda3\\lib\\site-packages (from ipython->ipython-sql) (0.7.5)\n",
      "Requirement already satisfied: decorator in c:\\users\\bets_\\anaconda3\\lib\\site-packages (from ipython->ipython-sql) (5.1.1)\n",
      "Requirement already satisfied: pygments>=2.4.0 in c:\\users\\bets_\\anaconda3\\lib\\site-packages (from ipython->ipython-sql) (2.11.2)\n",
      "Requirement already satisfied: traitlets>=5 in c:\\users\\bets_\\anaconda3\\lib\\site-packages (from ipython->ipython-sql) (5.7.1)\n",
      "Requirement already satisfied: backcall in c:\\users\\bets_\\anaconda3\\lib\\site-packages (from ipython->ipython-sql) (0.2.0)\n",
      "Requirement already satisfied: colorama in c:\\users\\bets_\\anaconda3\\lib\\site-packages (from ipython->ipython-sql) (0.4.6)\n",
      "Requirement already satisfied: jedi>=0.16 in c:\\users\\bets_\\anaconda3\\lib\\site-packages (from ipython->ipython-sql) (0.18.1)\n",
      "Requirement already satisfied: stack-data in c:\\users\\bets_\\anaconda3\\lib\\site-packages (from ipython->ipython-sql) (0.2.0)\n",
      "Requirement already satisfied: prompt-toolkit<3.1.0,>=3.0.30 in c:\\users\\bets_\\anaconda3\\lib\\site-packages (from ipython->ipython-sql) (3.0.36)\n",
      "Requirement already satisfied: matplotlib-inline in c:\\users\\bets_\\anaconda3\\lib\\site-packages (from ipython->ipython-sql) (0.1.6)\n",
      "Requirement already satisfied: wcwidth in c:\\users\\bets_\\anaconda3\\lib\\site-packages (from prettytable->ipython-sql) (0.2.5)\n",
      "Requirement already satisfied: parso<0.9.0,>=0.8.0 in c:\\users\\bets_\\anaconda3\\lib\\site-packages (from jedi>=0.16->ipython->ipython-sql) (0.8.3)\n",
      "Requirement already satisfied: asttokens in c:\\users\\bets_\\anaconda3\\lib\\site-packages (from stack-data->ipython->ipython-sql) (2.0.5)\n",
      "Requirement already satisfied: executing in c:\\users\\bets_\\anaconda3\\lib\\site-packages (from stack-data->ipython->ipython-sql) (0.8.3)\n",
      "Requirement already satisfied: pure-eval in c:\\users\\bets_\\anaconda3\\lib\\site-packages (from stack-data->ipython->ipython-sql) (0.2.2)\n"
     ]
    }
   ],
   "source": [
    " !pip install ipython-sql"
   ]
  },
  {
   "cell_type": "code",
   "execution_count": 3,
   "id": "e5f4b9f7",
   "metadata": {},
   "outputs": [],
   "source": [
    "import sqlite3\n",
    "\n",
    "con = sqlite3.connect('Question8.db')\n",
    "cur = con.cursor()\n",
    "#cur.execute(\"CREATE TABLE Weather1 (City text, Country text, Season text, Temperature float, Rainfall float)\")\n",
    "\n"
   ]
  },
  {
   "cell_type": "code",
   "execution_count": 4,
   "id": "36c54d66",
   "metadata": {},
   "outputs": [
    {
     "name": "stdout",
     "output_type": "stream",
     "text": [
      "('Mumbai', 'India', 'Winter', 24.8, 5.9)\n",
      "('Mumbai', 'India', 'Spring', 28.4, 16.2)\n",
      "('Mumbai', 'India', 'Summer', 27.9, 1549.4)\n",
      "('Mumbai', 'India', 'Fall', 27.6, 346.0)\n",
      "('London', 'United Kingdom', 'Winter', 4.2, 207.7)\n",
      "('London', 'United Kingdom', 'Spring', 8.3, 169.6)\n",
      "('London', 'United Kingdom', 'Summer', 15.7, 157.0)\n",
      "('London', 'United Kingdom', 'Fall', 10.4, 218.5)\n",
      "('Cairo', 'Egypt', 'Winter', 13.6, 16.5)\n",
      "('Cairo', 'Egypt', 'Spring', 20.7, 6.5)\n",
      "('Cairo', 'Egypt', 'Summer', 27.7, 0.1)\n",
      "('Cairo', 'Egypt', 'Fall', 22.2, 4.5)\n"
     ]
    }
   ],
   "source": [
    "List_Weather= [(\"Mumbai\", \"India\", \"Winter\", 24.8, 5.9), \n",
    "               (\"Mumbai\", \"India\", \"Spring\", 28.4, 16.2), \n",
    "               (\"Mumbai\", \"India\", \"Summer\", 27.9, 1549.4), \n",
    "               (\"Mumbai\", \"India\", \"Fall\", 27.6, 346.0),\n",
    "              (\"London\", \"United Kingdom\", \"Winter\", 4.2, 207.7),\n",
    "              (\"London\", \"United Kingdom\", \"Spring\", 8.3, 169.6),\n",
    "              (\"London\", \"United Kingdom\", \"Summer\", 15.7, 157.0),\n",
    "              (\"London\", \"United Kingdom\", \"Fall\", 10.4, 218.5),\n",
    "              (\"Cairo\", \"Egypt\", \"Winter\", 13.6, 16.5),\n",
    "              (\"Cairo\", \"Egypt\", \"Spring\", 20.7, 6.5),\n",
    "              (\"Cairo\", \"Egypt\", \"Summer\", 27.7, 0.1),\n",
    "              (\"Cairo\", \"Egypt\", \"Fall\", 22.2, 4.5)]\n",
    "\n",
    "for i in List_Weather:\n",
    "    cur.execute(\"INSERT INTO Weather1 VALUES(?, ?, ?, ?, ?)\", (i[0], i[1], i[2], i[3], i[4]))\n",
    "    print(i)"
   ]
  },
  {
   "cell_type": "code",
   "execution_count": 5,
   "id": "3c8126a0",
   "metadata": {},
   "outputs": [
    {
     "name": "stdout",
     "output_type": "stream",
     "text": [
      "(24.8,)\n",
      "(28.4,)\n",
      "(27.9,)\n",
      "(27.6,)\n",
      "(4.2,)\n",
      "(8.3,)\n",
      "(15.7,)\n",
      "(10.4,)\n",
      "(13.6,)\n",
      "(20.7,)\n",
      "(27.7,)\n",
      "(22.2,)\n"
     ]
    }
   ],
   "source": [
    "\n",
    "#a)All the temperature data.\n",
    "cur.execute(\"SELECT Temperature FROM Weather1\")\n",
    "for i in cur:\n",
    "    print(i)\n"
   ]
  },
  {
   "cell_type": "code",
   "execution_count": 6,
   "id": "1aa48a08",
   "metadata": {},
   "outputs": [
    {
     "name": "stdout",
     "output_type": "stream",
     "text": [
      "('Mumbai',)\n",
      "('London',)\n",
      "('Cairo',)\n"
     ]
    }
   ],
   "source": [
    "#b) All the cities, but without repetition\n",
    "cur.execute(\"SELECT Distinct CITY FROM Weather1\")\n",
    "for i in cur:\n",
    "    print(i)"
   ]
  },
  {
   "cell_type": "code",
   "execution_count": 7,
   "id": "51e7fb24",
   "metadata": {},
   "outputs": [
    {
     "name": "stdout",
     "output_type": "stream",
     "text": [
      "('Mumbai', 'India', 'Winter', 24.8, 5.9)\n",
      "('Mumbai', 'India', 'Spring', 28.4, 16.2)\n",
      "('Mumbai', 'India', 'Summer', 27.9, 1549.4)\n",
      "('Mumbai', 'India', 'Fall', 27.6, 346.0)\n"
     ]
    }
   ],
   "source": [
    "#c) All the records for India.\n",
    "word = \"India\"\n",
    "cur.execute(\"SELECT * FROM Weather1 WHERE Country = ?\", (word,))\n",
    "for i in cur:\n",
    "    print(i)"
   ]
  },
  {
   "cell_type": "code",
   "execution_count": 8,
   "id": "86fe9634",
   "metadata": {},
   "outputs": [
    {
     "name": "stdout",
     "output_type": "stream",
     "text": [
      "('Mumbai', 'India', 'Fall', 27.6, 346.0)\n",
      "('London', 'United Kingdom', 'Fall', 10.4, 218.5)\n",
      "('Cairo', 'Egypt', 'Fall', 22.2, 4.5)\n"
     ]
    }
   ],
   "source": [
    "#d) All the Fall records.\n",
    "word = \"Fall\"\n",
    "cur.execute(\"SELECT * FROM Weather1 WHERE Season = ?\", (word,))\n",
    "for i in cur:\n",
    "    print(i)\n"
   ]
  },
  {
   "cell_type": "code",
   "execution_count": 22,
   "id": "97960619",
   "metadata": {},
   "outputs": [
    {
     "name": "stdout",
     "output_type": "stream",
     "text": [
      "('Mumbai', 'India', 'Fall', 257.40000000000003)\n"
     ]
    }
   ],
   "source": [
    "#e) The city, country, and season for which the average rainfall is between 200 and 400 millimeters\n",
    "\n",
    "cur.execute(\"SELECT City, Country, Season, AVG(Rainfall) FROM Weather1 WHERE Rainfall BETWEEN 200 AND 400\")\n",
    "\n",
    "for i in cur:\n",
    "    print(i)\n"
   ]
  },
  {
   "cell_type": "code",
   "execution_count": 25,
   "id": "5af808d9",
   "metadata": {},
   "outputs": [
    {
     "name": "stdout",
     "output_type": "stream",
     "text": [
      "('Mumbai', 'India', 25.614285714285707)\n"
     ]
    }
   ],
   "source": [
    "#f) The city and country for which the average Fall temperature is above 20 degrees, in increasing temperature order.\n",
    "\n",
    "cur.execute(\"SELECT City, Country, AVG(Temperature) FROM Weather1 WHERE Temperature > 20 ORDER by Temperature\")\n",
    "\n",
    "for i in cur:\n",
    "    print(i)\n"
   ]
  },
  {
   "cell_type": "code",
   "execution_count": 18,
   "id": "9c596bcb",
   "metadata": {},
   "outputs": [
    {
     "name": "stdout",
     "output_type": "stream",
     "text": [
      "(27.6,)\n"
     ]
    }
   ],
   "source": [
    "#g) The total annual rainfall for Cairo.\n",
    "word = \"Cairo\"\n",
    "cur.execute(\"SELECT SUM(Rainfall) FROM Weather1 WHERE City = ?\", (word,))\n",
    "\n",
    "for i in cur:\n",
    "    print(i)"
   ]
  },
  {
   "cell_type": "code",
   "execution_count": 28,
   "id": "59de7b95",
   "metadata": {},
   "outputs": [
    {
     "ename": "SyntaxError",
     "evalue": "unterminated string literal (detected at line 3) (1677834959.py, line 3)",
     "output_type": "error",
     "traceback": [
      "\u001b[1;36m  Cell \u001b[1;32mIn[28], line 3\u001b[1;36m\u001b[0m\n\u001b[1;33m    cur.execute(\"SELECT Season FROM Weather1 WHERE SUM(Rainfall) BETWEEN 0 AND 100)\u001b[0m\n\u001b[1;37m                ^\u001b[0m\n\u001b[1;31mSyntaxError\u001b[0m\u001b[1;31m:\u001b[0m unterminated string literal (detected at line 3)\n"
     ]
    }
   ],
   "source": [
    "#h) The total rainfall for each season.\n",
    "\n",
    "cur.execute(\"SELECT Season FROM Weather1 WHERE SUM(Rainfall) BETWEEN 0 AND 100)\n",
    "\n",
    "for i in cur:\n",
    "    print(i)"
   ]
  },
  {
   "cell_type": "code",
   "execution_count": 51,
   "id": "9d8f1304",
   "metadata": {},
   "outputs": [
    {
     "name": "stdout",
     "output_type": "stream",
     "text": [
      "['The', 'quick', 'brown', 'fox', 'jumps', 'over', 'the', 'lazy', 'dog']\n",
      "['THE', 'QUICK', 'BROWN', 'FOX', 'JUMPS', 'OVER', 'THE', 'LAZY', 'DOG']\n"
     ]
    }
   ],
   "source": [
    "#Question9\n",
    "words = ['The', 'quick', 'brown', 'fox', 'jumps', 'over', 'the', 'lazy', 'dog']\n",
    "\n",
    "#a)\n",
    "Upper = list(map(str.upper, words))\n",
    "\n",
    "print(words)\n",
    "print(Upper)"
   ]
  },
  {
   "cell_type": "code",
   "execution_count": 52,
   "id": "519ee245",
   "metadata": {},
   "outputs": [
    {
     "name": "stdout",
     "output_type": "stream",
     "text": [
      "['the', 'quick', 'brown', 'fox', 'jumps', 'over', 'the', 'lazy', 'dog']\n"
     ]
    }
   ],
   "source": [
    "#b)\n",
    "Lower = list(map(str.lower, words))\n",
    "\n",
    "print(Lower)"
   ]
  },
  {
   "cell_type": "code",
   "execution_count": 60,
   "id": "c1861300",
   "metadata": {},
   "outputs": [
    {
     "name": "stdout",
     "output_type": "stream",
     "text": [
      "[3, 5, 5]\n"
     ]
    }
   ],
   "source": [
    "#c\n",
    "words_lenght = []\n",
    "\n",
    "for i in range(0, (len(words[0]))):\n",
    "    words_lenght.append(len(words[i]))\n",
    "\n",
    "print(words_lenght)"
   ]
  },
  {
   "cell_type": "code",
   "execution_count": 57,
   "id": "531c9980",
   "metadata": {},
   "outputs": [
    {
     "name": "stdout",
     "output_type": "stream",
     "text": [
      "[['THE', 'QUICK', 'BROWN', 'FOX', 'JUMPS', 'OVER', 'THE', 'LAZY', 'DOG'], ['the', 'quick', 'brown', 'fox', 'jumps', 'over', 'the', 'lazy', 'dog'], [3, 5, 5]]\n"
     ]
    }
   ],
   "source": [
    "# d)\n",
    "list_in_list = [Upper, Lower, words_lenght]\n",
    "\n",
    "\n",
    "\n",
    "print(list_in_list)"
   ]
  },
  {
   "cell_type": "code",
   "execution_count": 69,
   "id": "e8f1d24d",
   "metadata": {},
   "outputs": [
    {
     "name": "stdout",
     "output_type": "stream",
     "text": [
      "quick\n",
      "brown\n",
      "jumps\n",
      "over\n",
      "lazy\n"
     ]
    }
   ],
   "source": [
    "#e)\n",
    "\n",
    "for word in words:\n",
    "    if len(word)>= 4:\n",
    "        print((word))\n",
    "    "
   ]
  },
  {
   "cell_type": "code",
   "execution_count": null,
   "id": "8e1d9012",
   "metadata": {},
   "outputs": [],
   "source": []
  }
 ],
 "metadata": {
  "celltoolbar": "Slideshow",
  "kernelspec": {
   "display_name": "Python 3 (ipykernel)",
   "language": "python",
   "name": "python3"
  },
  "language_info": {
   "codemirror_mode": {
    "name": "ipython",
    "version": 3
   },
   "file_extension": ".py",
   "mimetype": "text/x-python",
   "name": "python",
   "nbconvert_exporter": "python",
   "pygments_lexer": "ipython3",
   "version": "3.10.9"
  }
 },
 "nbformat": 4,
 "nbformat_minor": 5
}
